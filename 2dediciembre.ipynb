{
  "nbformat": 4,
  "nbformat_minor": 0,
  "metadata": {
    "colab": {
      "name": "2dediciembre.ipynb",
      "provenance": [],
      "authorship_tag": "ABX9TyMxXIwCihMAuvJRKEEC/Q0l",
      "include_colab_link": true
    },
    "kernelspec": {
      "name": "python3",
      "display_name": "Python 3"
    }
  },
  "cells": [
    {
      "cell_type": "markdown",
      "metadata": {
        "id": "view-in-github",
        "colab_type": "text"
      },
      "source": [
        "<a href=\"https://colab.research.google.com/github/humbertoguell/daa2020_1/blob/master/2dediciembre.ipynb\" target=\"_parent\"><img src=\"https://colab.research.google.com/assets/colab-badge.svg\" alt=\"Open In Colab\"/></a>"
      ]
    },
    {
      "cell_type": "code",
      "metadata": {
        "id": "cKTU3WzV_x96"
      },
      "source": [
        "def  fcRecInfinita():\n",
        "     print(\"hola\")\n",
        "     fnRecIntfinita()"
      ],
      "execution_count": null,
      "outputs": []
    },
    {
      "cell_type": "code",
      "metadata": {
        "id": "0PTfnVEFAUdK"
      },
      "source": [
        "fcRecInfinita()"
      ],
      "execution_count": null,
      "outputs": []
    },
    {
      "cell_type": "code",
      "metadata": {
        "colab": {
          "base_uri": "https://localhost:8080/"
        },
        "id": "INvW9buRAXOv",
        "outputId": "b84cc6ba-3027-44ba-8634-718222b45d94"
      },
      "source": [
        "def fnRec( x ):\n",
        "    if x== 0:\n",
        "      print('Stop')\n",
        "    else:\n",
        "      print( x )\n",
        "      fnRec( x-1 )\n",
        "\n",
        "def main():\n",
        "    print('inicio del programa')\n",
        "    fnRec(5)\n",
        "    print('fin del programa')\n",
        "\n",
        "main()"
      ],
      "execution_count": 2,
      "outputs": [
        {
          "output_type": "stream",
          "text": [
            "inicio del programa\n",
            "5\n",
            "4\n",
            "3\n",
            "2\n",
            "1\n",
            "Stop\n",
            "fin del programa\n"
          ],
          "name": "stdout"
        }
      ]
    },
    {
      "cell_type": "code",
      "metadata": {
        "colab": {
          "base_uri": "https://localhost:8080/"
        },
        "id": "3CRig-KPBztZ",
        "outputId": "6fb845a9-c9a6-4e8a-b8c9-b5eeef4ac04e"
      },
      "source": [
        "def printRev( x ):\n",
        "    if x > 0:\n",
        "        print( x )\n",
        "        printRev( x-1 )\n",
        "print( 3 )"
      ],
      "execution_count": 3,
      "outputs": [
        {
          "output_type": "stream",
          "text": [
            "3\n"
          ],
          "name": "stdout"
        }
      ]
    },
    {
      "cell_type": "code",
      "metadata": {
        "colab": {
          "base_uri": "https://localhost:8080/"
        },
        "id": "iHY8t8CMIy1X",
        "outputId": "720e3a6b-3a81-487a-fb04-a861237ddb33"
      },
      "source": [
        "def fibonacci( n ):\n",
        "    if n == 1 or n == 0:\n",
        "      return n\n",
        "    else:\n",
        "      return(fibonacci(n-1) +fibonacci(n-2) )\n",
        "print(fibonacci(8))"
      ],
      "execution_count": 6,
      "outputs": [
        {
          "output_type": "stream",
          "text": [
            "21\n"
          ],
          "name": "stdout"
        }
      ]
    }
  ]
}