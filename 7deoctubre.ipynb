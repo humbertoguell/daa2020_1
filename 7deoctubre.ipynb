{
  "nbformat": 4,
  "nbformat_minor": 0,
  "metadata": {
    "colab": {
      "name": "7deoctubre.ipynb",
      "provenance": [],
      "collapsed_sections": [],
      "authorship_tag": "ABX9TyPIeIZuNxnH9MBwU6b/ojSW",
      "include_colab_link": true
    },
    "kernelspec": {
      "name": "python3",
      "display_name": "Python 3"
    }
  },
  "cells": [
    {
      "cell_type": "markdown",
      "metadata": {
        "id": "view-in-github",
        "colab_type": "text"
      },
      "source": [
        "<a href=\"https://colab.research.google.com/github/humbertoguell/daa2020_1/blob/master/7deoctubre.ipynb\" target=\"_parent\"><img src=\"https://colab.research.google.com/assets/colab-badge.svg\" alt=\"Open In Colab\"/></a>"
      ]
    },
    {
      "cell_type": "markdown",
      "metadata": {
        "id": "z3fvMOGgSuU4"
      },
      "source": [
        "#Busqueda lineal\n",
        "dada un conjunto de datos no ordenados, la busqueda de datos linela consiste en recorrer el conjunto de datos desde el inicio al final, moviendose de uno en uno hasta encontrar el elemento o llegar al final del conjunto\n",
        "\n",
        "datos =[4,18,47,2,34,14,78,12,48,21,31,19,1,3,5]\n",
        "\n",
        "#busqueda binaria\n",
        "\n",
        "funciona sobre un conjunto de datos lineal ordenado.\n",
        "Consiste en dividir el conjunto en mitades y buscar esa mitad, si el elemento buscado no esta en la mitad, pregunta si el elemento esta a la derecha o a la izquierda\n",
        "Haces la lista igual a la mitad correspondiente y repites proceso\n",
        "\n",
        "DER = longitud(L) -1\n",
        "IZQ = 0\n",
        "\n",
        "MID apuntara a la mitad del segmento de busqueda\n",
        "\n",
        "1. Hacer DER = longitud(L)-1\n",
        "2. Hacer IZQ = 0\n",
        "3. si IZQ > DER significa que hay un error en los datos\n",
        "4. Calcular MID = int(IZQ + DER)\n",
        "5. mientras L[MID] !=  buscando hacer\n",
        "6.           -pregunta L[MID] > buscando\n",
        "              - hacer DER  = mid\n",
        "              -de lo contrario\n",
        "               -hacer IZQ = mid\n",
        "               -preguntar(DER -IZQ) %2\n",
        "               - MID = (IZQ((DER -IZQ)/2))=1\n",
        "               -de lo contrario\n",
        "               - MID =IZQ + ((DER -IZQ)/2)\n",
        "7. return MID"
      ]
    },
    {
      "cell_type": "code",
      "metadata": {
        "id": "O51crQKkTwuI",
        "outputId": "c6cb6dd5-e44a-4107-dc75-da7eaede131a",
        "colab": {
          "base_uri": "https://localhost:8080/"
        }
      },
      "source": [
        "\"\"\"\n",
        "busqueda lineal\n",
        "regresa la posicion del elemento 'buscado' si se encuentra dentro de la lista\n",
        "regresa -1 si el elemento buscado no existe dentro de la lista\n",
        "\"\"\"\n",
        "def busq_lineal(L,buscando):\n",
        "  indice = -1\n",
        "  contador = 0\n",
        "  for idx in range(len(L)):\n",
        "      contador +=1\n",
        "      if L[idx] == buscando:\n",
        "          indice = idx\n",
        "          break\n",
        "  print(f\"numero de comparaciones realizada={contador}\") \n",
        "  return indice\n",
        "\n",
        "def busq_binaria(L,buscado):\n",
        "  izq = 0\n",
        "  der = len(L)-1\n",
        "  mid = int((izq + der)/2)\n",
        "  if len(L)% 2 == 0:\n",
        "      mid = (der/2)+1\n",
        "  else:\n",
        "    mid = der//3\n",
        "  while (L[mid] != buscado):\n",
        "      if L[mid] > buscado:\n",
        "        der = mid\n",
        "      else:\n",
        "          izq = mid\n",
        "      if (der - izq) % 2 == 0:\n",
        "          mid = (izq + ((der - izq)//2))+1\n",
        "      else:\n",
        "          mid = izq + (((der - izq))//2)\n",
        "  return mid\n",
        "\n",
        "def main():\n",
        "  datos =[4,18,47,2,34,14,78,12,48,21,31,19,1,3,5]\n",
        "  dato = int(input(\"que valor deseas buscar\"))\n",
        "  resultado = busq_lineal(datos, dato)\n",
        "  print(\"resultado:\",resultado)\n",
        "  \n",
        "  print(\"Busqueda lineal en lista ordenada\")\n",
        "  datos.sort()\n",
        "  print(datos)\n",
        "  resultado = busq_lineal(datos, dato)\n",
        "  print(\"resultado:\",resultado)\n",
        "\n",
        "  print(\"busqeda binaria\")\n",
        "  posicion= busq_binaria(datos,dato)\n",
        "  print(f\"el elemento {dato} dato esta en la posicion {posicion} de la lista\")\n",
        "\n",
        "\n",
        "\n",
        "main()"
      ],
      "execution_count": 17,
      "outputs": [
        {
          "output_type": "stream",
          "text": [
            "que valor deseas buscar19\n",
            "numero de comparaciones realizada=12\n",
            "resultado: 11\n",
            "Busqueda lineal en lista ordenada\n",
            "[1, 2, 3, 4, 5, 12, 14, 18, 19, 21, 31, 34, 47, 48, 78]\n",
            "numero de comparaciones realizada=9\n",
            "resultado: 8\n",
            "busqeda binaria\n",
            "el elemento 19 dato esta en la posicion 8 de la lista\n"
          ],
          "name": "stdout"
        }
      ]
    }
  ]
}