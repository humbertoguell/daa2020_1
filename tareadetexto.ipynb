{
  "nbformat": 4,
  "nbformat_minor": 0,
  "metadata": {
    "colab": {
      "name": "tareadetexto.ipynb",
      "provenance": [],
      "collapsed_sections": [],
      "authorship_tag": "ABX9TyPM+eTeblzsyKoK+QeKh8qu",
      "include_colab_link": true
    },
    "kernelspec": {
      "name": "python3",
      "display_name": "Python 3"
    }
  },
  "cells": [
    {
      "cell_type": "markdown",
      "metadata": {
        "id": "view-in-github",
        "colab_type": "text"
      },
      "source": [
        "<a href=\"https://colab.research.google.com/github/humbertoguell/daa2020_1/blob/master/tareadetexto.ipynb\" target=\"_parent\"><img src=\"https://colab.research.google.com/assets/colab-badge.svg\" alt=\"Open In Colab\"/></a>"
      ]
    },
    {
      "cell_type": "code",
      "metadata": {
        "colab": {
          "base_uri": "https://localhost:8080/"
        },
        "id": "tPB5r4R-GQma",
        "outputId": "b4d0f64b-c3c6-4dfb-f302-9c88739305b5"
      },
      "source": [
        "texto =\"\"\"El lema que anima a la Universidad Nacional,\n",
        "Por mi raza hablará el espíritu,\n",
        "revela la vocación humanística con la que fue concebida.\n",
        "El autor de esta célebre frase, José Vasconcelos, asumió la rectoría en 1920, en una época en que las esperanzas\n",
        "de la Revolución aún estaban vivas, había una gran fé en la Patria y el ánimo redentor se extendía en el ambiente.\"\"\"\n",
        "\n",
        "quitar = \",;:.\\n!\\\"'\"\n",
        "for caracter in quitar:\n",
        "    texto = texto.replace(caracter,  \"  \")\n",
        "texto = texto.replace(\"á\",\"a\")\n",
        "texto = texto.replace(\"é\",\"e\")\n",
        "texto = texto.replace(\"í\",\"i\")\n",
        "texto = texto.replace(\"ó\",\"o\")\n",
        "texto = texto.replace(\"ú\",\"u\")\n",
        "texto = texto.lower()\n",
        "palabra = texto.split(\" \")\n",
        "print(texto)\n",
        "\n",
        "num_veces = {}\n",
        "for pala in palabra:\n",
        "    if pala in num_veces:\n",
        "        num_veces[pala] +=1\n",
        "    else:\n",
        "        num_veces[pala] = 1\n",
        "\n",
        "for pala in num_veces:\n",
        "    veces = num_veces[pala]\n",
        "    print(f\"La palabra '{pala}' aparece {veces} veces\")\n"
      ],
      "execution_count": 1,
      "outputs": [
        {
          "output_type": "stream",
          "text": [
            "el lema que anima a la universidad nacional    por mi raza hablara el espiritu    revela la vocacion humanistica con la que fue concebida    el autor de esta celebre frase   jose vasconcelos   asumio la rectoria en 1920   en una epoca en que las esperanzas  de la revolucion aun estaban vivas   habia una gran fe en la patria y el animo redentor se extendia en el ambiente  \n",
            "La palabra 'el' aparece 5 veces\n",
            "La palabra 'lema' aparece 1 veces\n",
            "La palabra 'que' aparece 3 veces\n",
            "La palabra 'anima' aparece 1 veces\n",
            "La palabra 'a' aparece 1 veces\n",
            "La palabra 'la' aparece 6 veces\n",
            "La palabra 'universidad' aparece 1 veces\n",
            "La palabra 'nacional' aparece 1 veces\n",
            "La palabra '' aparece 20 veces\n",
            "La palabra 'por' aparece 1 veces\n",
            "La palabra 'mi' aparece 1 veces\n",
            "La palabra 'raza' aparece 1 veces\n",
            "La palabra 'hablara' aparece 1 veces\n",
            "La palabra 'espiritu' aparece 1 veces\n",
            "La palabra 'revela' aparece 1 veces\n",
            "La palabra 'vocacion' aparece 1 veces\n",
            "La palabra 'humanistica' aparece 1 veces\n",
            "La palabra 'con' aparece 1 veces\n",
            "La palabra 'fue' aparece 1 veces\n",
            "La palabra 'concebida' aparece 1 veces\n",
            "La palabra 'autor' aparece 1 veces\n",
            "La palabra 'de' aparece 2 veces\n",
            "La palabra 'esta' aparece 1 veces\n",
            "La palabra 'celebre' aparece 1 veces\n",
            "La palabra 'frase' aparece 1 veces\n",
            "La palabra 'jose' aparece 1 veces\n",
            "La palabra 'vasconcelos' aparece 1 veces\n",
            "La palabra 'asumio' aparece 1 veces\n",
            "La palabra 'rectoria' aparece 1 veces\n",
            "La palabra 'en' aparece 5 veces\n",
            "La palabra '1920' aparece 1 veces\n",
            "La palabra 'una' aparece 2 veces\n",
            "La palabra 'epoca' aparece 1 veces\n",
            "La palabra 'las' aparece 1 veces\n",
            "La palabra 'esperanzas' aparece 1 veces\n",
            "La palabra 'revolucion' aparece 1 veces\n",
            "La palabra 'aun' aparece 1 veces\n",
            "La palabra 'estaban' aparece 1 veces\n",
            "La palabra 'vivas' aparece 1 veces\n",
            "La palabra 'habia' aparece 1 veces\n",
            "La palabra 'gran' aparece 1 veces\n",
            "La palabra 'fe' aparece 1 veces\n",
            "La palabra 'patria' aparece 1 veces\n",
            "La palabra 'y' aparece 1 veces\n",
            "La palabra 'animo' aparece 1 veces\n",
            "La palabra 'redentor' aparece 1 veces\n",
            "La palabra 'se' aparece 1 veces\n",
            "La palabra 'extendia' aparece 1 veces\n",
            "La palabra 'ambiente' aparece 1 veces\n"
          ],
          "name": "stdout"
        }
      ]
    }
  ]
}