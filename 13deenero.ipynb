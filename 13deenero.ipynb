{
  "nbformat": 4,
  "nbformat_minor": 0,
  "metadata": {
    "colab": {
      "name": "13deenero.ipynb",
      "provenance": [],
      "authorship_tag": "ABX9TyNM5vI6r3YNok3rp7UAWPYq",
      "include_colab_link": true
    },
    "kernelspec": {
      "name": "python3",
      "display_name": "Python 3"
    }
  },
  "cells": [
    {
      "cell_type": "markdown",
      "metadata": {
        "id": "view-in-github",
        "colab_type": "text"
      },
      "source": [
        "<a href=\"https://colab.research.google.com/github/humbertoguell/daa2020_1/blob/master/13deenero.ipynb\" target=\"_parent\"><img src=\"https://colab.research.google.com/assets/colab-badge.svg\" alt=\"Open In Colab\"/></a>"
      ]
    },
    {
      "cell_type": "code",
      "metadata": {
        "id": "-fE3WW6KZJ9f"
      },
      "source": [
        "   class NodoArbol:\r\n",
        "      def _init_(self, value, left = None, right = None):\r\n",
        "            self.data = value\r\n",
        "            self.left = left\r\n",
        "            self.right = right"
      ],
      "execution_count": 8,
      "outputs": []
    },
    {
      "cell_type": "code",
      "metadata": {
        "id": "z6vhzmOTTAks"
      },
      "source": [
        "class BinarySearchTree:\r\n",
        "  def __init__(self): \r\n",
        "    self.__root = None\r\n",
        "\r\n",
        "  def insert(self, value):\r\n",
        "    if self.__root == None:\r\n",
        "        self.__root = NodoArbol(value,None,None)\r\n",
        "    else:\r\n",
        "          #preguntar si value es menor que root, de ser el caso\r\n",
        "          #insetar a la izq, pero.. puede ser el caso que el\r\n",
        "          #sub arbol izq ya tenga muchos elementos....\r\n",
        "        self.__insert_nodo__(self._root, value)\r\n",
        "\r\n",
        "  def __insert_nodo__(self,nodo,value):\r\n",
        "      if nodo.data == value:\r\n",
        "          pass\r\n",
        "      elif value < nodo.data: #true va a la ziq\r\n",
        "          if nodo.left == None: # si hay esoacio en la izq, ahi va\r\n",
        "              nodo.left = TreeNode(value, None, None) # insertamos el nodo\r\n",
        "          else:\r\n",
        "              self.__insert_nodo__(nodo.left, value)#buscar en sub arbol"
      ],
      "execution_count": 13,
      "outputs": []
    },
    {
      "cell_type": "code",
      "metadata": {
        "id": "eRFthvzlbv98"
      },
      "source": [
        "bst = BinarySearchTree()\r\n",
        "bst.insert(50)"
      ],
      "execution_count": null,
      "outputs": []
    }
  ]
}