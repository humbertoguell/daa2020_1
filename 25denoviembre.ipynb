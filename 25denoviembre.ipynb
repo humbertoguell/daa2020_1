{
  "nbformat": 4,
  "nbformat_minor": 0,
  "metadata": {
    "colab": {
      "name": "25denoviembre.ipynb",
      "provenance": [],
      "authorship_tag": "ABX9TyPRGqsC4UwF3iWch17xnwAW",
      "include_colab_link": true
    },
    "kernelspec": {
      "name": "python3",
      "display_name": "Python 3"
    }
  },
  "cells": [
    {
      "cell_type": "markdown",
      "metadata": {
        "id": "view-in-github",
        "colab_type": "text"
      },
      "source": [
        "<a href=\"https://colab.research.google.com/github/humbertoguell/daa2020_1/blob/master/25denoviembre.ipynb\" target=\"_parent\"><img src=\"https://colab.research.google.com/assets/colab-badge.svg\" alt=\"Open In Colab\"/></a>"
      ]
    },
    {
      "cell_type": "code",
      "metadata": {
        "id": "45aOU1I79q1d"
      },
      "source": [
        "frase=\"\"\"El lema que anima a la Universidad Nacional, Por mi raza hablará el espíritu, revela la vocación humanística con la que fue concebida. El autor de esta célebre frase, José Vasconcelos, asumió la rectoría en 1920, en una época en que las esperanzas de la Revolución aún estaban vivas,\n",
        " había una gran fe en la Patria y el ánimo redentor se extendía en el ambiente.\"\"\"\n",
        "\n",
        "frase= frase.strip().replace(\"\\n\",\"\").replace(\",\",\"\").replace(\".\",\"\").lower().split(\" \")\n",
        "print(frase)\n",
        "frecuencias = {}\n",
        "for index in range(len(frase)):\n",
        "  if frase[index] in frecuencias:\n",
        "    pass\n",
        "  else:\n",
        "    frecuencias[frase[index]] = 1 \n",
        "    for pivote in range(index+1,len(frase),1):\n",
        "      #print(frase[index],\"comparada contra:\", frase[pivote])\n",
        "        if frases[ubdex] == frase [pivote]:\n",
        "            frecuencas [frase[index]] +=1\n",
        "print(frecuencias)"
      ],
      "execution_count": null,
      "outputs": []
    },
    {
      "cell_type": "code",
      "metadata": {
        "id": "NMqNu1Pr_cM-"
      },
      "source": [
        "palabra = 'hola'\n",
        "print(bash(oalabra))\n",
        "palabra = 'hola'\n",
        "print(bash(palabra))"
      ],
      "execution_count": null,
      "outputs": []
    }
  ]
}