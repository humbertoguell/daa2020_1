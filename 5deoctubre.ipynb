{
  "nbformat": 4,
  "nbformat_minor": 0,
  "metadata": {
    "colab": {
      "name": "5deoctubre.ipynb",
      "provenance": [],
      "collapsed_sections": [],
      "authorship_tag": "ABX9TyMcfjqJt9i4pvl7KvLR4qBK",
      "include_colab_link": true
    },
    "kernelspec": {
      "name": "python3",
      "display_name": "Python 3"
    }
  },
  "cells": [
    {
      "cell_type": "markdown",
      "metadata": {
        "id": "view-in-github",
        "colab_type": "text"
      },
      "source": [
        "<a href=\"https://colab.research.google.com/github/humbertoguell/daa2020_1/blob/master/5deoctubre.ipynb\" target=\"_parent\"><img src=\"https://colab.research.google.com/assets/colab-badge.svg\" alt=\"Open In Colab\"/></a>"
      ]
    },
    {
      "cell_type": "markdown",
      "metadata": {
        "id": "UiaPp7ZaBxJG"
      },
      "source": [
        "Estructura de las pilas\n",
        "-(LIfo)\n",
        "-De tipo lineal\n",
        "-Se puede ingresar y agregar datos desde el tope\n",
        "-push agregar\n",
        "-pop quitar\n",
        "\n",
        "##operaciones de pilas \n",
        "1. is_empty(regresa true o false)\n",
        "2.get_top"
      ]
    },
    {
      "cell_type": "code",
      "metadata": {
        "id": "J8q5-qKcCu2e"
      },
      "source": [
        "class stack():\n",
        "  def __init__(self):\n",
        "    self._datos=[]\n",
        "\n",
        "  def empty(self):\n",
        "    return len(self._datos) == 0\n",
        "\n",
        "  def get_top(self):\n",
        "    return self._datos[-1]\n",
        "\n",
        "  def pop(self):\n",
        "    return self._datos.pop()\n",
        "\n",
        "  def push(self, valor):\n",
        "    self._datos.append(valor)\n",
        "\n",
        "  def get_length(self):\n",
        "    return len(self._datos)\n",
        "\n",
        "  def to_string(self):\n",
        "      print(\"|==========|\")\n",
        "      for ele in self._datos[-1::-1]:\n",
        "        print(f\"{ ele }\")\n",
        "      print(\"|==========|\")"
      ],
      "execution_count": 22,
      "outputs": []
    },
    {
      "cell_type": "code",
      "metadata": {
        "id": "1UCDfYILFh4g",
        "outputId": "254235f9-2dd9-406b-d734-af0415aad7c4",
        "colab": {
          "base_uri": "https://localhost:8080/",
          "height": 550
        }
      },
      "source": [
        "pila1 =stack()\n",
        "pila1.push(10)\n",
        "pila1.push(34)\n",
        "pila1.push(12)\n",
        "pila1.push(25)\n",
        "pila1.to_string()\n",
        "\n",
        "sacar=pila1.pop()\n",
        "print(sacar)\n",
        "pila1.to_string()\n",
        "\n",
        "pila1.push(212)\n",
        "pila1.push(120)\n",
        "pila1.to_string()\n",
        "\n",
        "print(f\"obtener el elemento en el top es: {pila1.get_top()}\")\n",
        "pila1.to_string()\n",
        "print(f\"La pila tiene {pila1.get_length()}\")\n",
        "print(f\"la lista esta vacia? : {pila1.empty()}\")"
      ],
      "execution_count": 23,
      "outputs": [
        {
          "output_type": "stream",
          "text": [
            "|==========|\n",
            "25\n",
            "12\n",
            "34\n",
            "10\n",
            "|==========|\n",
            "25\n",
            "|==========|\n",
            "12\n",
            "34\n",
            "10\n",
            "|==========|\n",
            "|==========|\n",
            "120\n",
            "212\n",
            "12\n",
            "34\n",
            "10\n",
            "|==========|\n",
            "obtener el elemento en el top es: 120\n",
            "|==========|\n",
            "120\n",
            "212\n",
            "12\n",
            "34\n",
            "10\n",
            "|==========|\n",
            "La pila tiene 5\n",
            "la lista esta vacia? : False\n"
          ],
          "name": "stdout"
        }
      ]
    },
    {
      "cell_type": "markdown",
      "metadata": {
        "id": "z6wF9J7LJinG"
      },
      "source": [
        "#ejemplo de aplicacion de pilas\n",
        "\n",
        "x= 4 + 5 + 6 + 8\n",
        "\n",
        "x= 4 +(5 + 6) + 4\n",
        "\n",
        "if(a==b)(system.out.println(b)\n",
        "\n",
        "if(a==b)(system.out.println(a)\n",
        "\n",
        "##reglas\n",
        "\n",
        "### '(' --> push('@')\n",
        "### ')' --> pop()\n",
        "Si al final del recorrido la pila esta vacia, entonces la cadena es correcta\n",
        "\n",
        "Si es un pop desencadena en querer sacar un elemento de la pila vacia, significa que la cadena no esta balanceada"
      ]
    },
    {
      "cell_type": "markdown",
      "metadata": {
        "id": "mDHu7MuJN4k_"
      },
      "source": [
        "##tarea\n",
        "Hacer un programa que valide ')' '{' '[' en programas c y java tomando como en base el codigo "
      ]
    }
  ]
}