{
  "nbformat": 4,
  "nbformat_minor": 0,
  "metadata": {
    "colab": {
      "name": "tarea10.ipynb",
      "provenance": [],
      "authorship_tag": "ABX9TyPaQDaMn2ocOVnxr+2hXDRq",
      "include_colab_link": true
    },
    "kernelspec": {
      "name": "python3",
      "display_name": "Python 3"
    }
  },
  "cells": [
    {
      "cell_type": "markdown",
      "metadata": {
        "id": "view-in-github",
        "colab_type": "text"
      },
      "source": [
        "<a href=\"https://colab.research.google.com/github/humbertoguell/daa2020_1/blob/master/tarea10.ipynb\" target=\"_parent\"><img src=\"https://colab.research.google.com/assets/colab-badge.svg\" alt=\"Open In Colab\"/></a>"
      ]
    },
    {
      "cell_type": "code",
      "metadata": {
        "colab": {
          "base_uri": "https://localhost:8080/"
        },
        "id": "3VQM8CLkV8tJ",
        "outputId": "e3d6c3c1-1d49-4e1a-cf50-9feaf456232f"
      },
      "source": [
        "class NodoArbol:\r\n",
        "  def __init__( self , value , left = None , right = None ):\r\n",
        "    self.data = value\r\n",
        "    self.left = left\r\n",
        "    self.right = right\r\n",
        "\r\n",
        "arbol = NodoArbol(\"0\",NodoArbol(\"54\",NodoArbol(\"4\",NodoArbol(\"14\"))\r\n",
        ",NodoArbol(\"11\",NodoArbol(\"7\",NodoArbol(\"10\")),NodoArbol(\"20\",NodoArbol(\"12\")))))\r\n",
        "    \r\n",
        "  \r\n",
        "auxiliar = arbol\r\n",
        "while auxiliar.left != None:\r\n",
        "  auxiliar = auxiliar.left\r\n",
        "\r\n",
        "print(\"la ultima hoja del arbol es \", auxiliar.data)\r\n"
      ],
      "execution_count": 3,
      "outputs": [
        {
          "output_type": "stream",
          "text": [
            "la ultima hoja del arbol es  14\n"
          ],
          "name": "stdout"
        }
      ]
    }
  ]
}