{
  "nbformat": 4,
  "nbformat_minor": 0,
  "metadata": {
    "colab": {
      "name": "Tarea7.ipynb",
      "provenance": [],
      "collapsed_sections": [],
      "authorship_tag": "ABX9TyOjbD1Gi3RF1tBjExeDXyXD",
      "include_colab_link": true
    },
    "kernelspec": {
      "name": "python3",
      "display_name": "Python 3"
    }
  },
  "cells": [
    {
      "cell_type": "markdown",
      "metadata": {
        "id": "view-in-github",
        "colab_type": "text"
      },
      "source": [
        "<a href=\"https://colab.research.google.com/github/humbertoguell/daa2020_1/blob/master/Tarea7.ipynb\" target=\"_parent\"><img src=\"https://colab.research.google.com/assets/colab-badge.svg\" alt=\"Open In Colab\"/></a>"
      ]
    },
    {
      "cell_type": "code",
      "metadata": {
        "colab": {
          "base_uri": "https://localhost:8080/"
        },
        "id": "Ohj9Gyc_nAqL",
        "outputId": "45ac70c7-691a-49fb-eef1-a62897797911"
      },
      "source": [
        "x=[1, 2, 3, 3, 4, 5, 6, 7]\n",
        "\n",
        "def rec(x,y,j):\n",
        "    if y < len(x):\n",
        "        j = j + x[ y ]\n",
        "        rec(x, y+1 ,j)\n",
        "    if y == len( x )-1:\n",
        "        print(j)\n",
        "rec(x,0,0)"
      ],
      "execution_count": 51,
      "outputs": [
        {
          "output_type": "stream",
          "text": [
            "31\n"
          ],
          "name": "stdout"
        }
      ]
    },
    {
      "cell_type": "code",
      "metadata": {
        "colab": {
          "base_uri": "https://localhost:8080/"
        },
        "id": "jGWSctR2pJ0_",
        "outputId": "67e8ab29-1716-4641-8a32-3a0c1f82ba15"
      },
      "source": [
        "def cont(x):\n",
        "  if x>0:\n",
        "    print(x)\n",
        "    cont(x-1)\n",
        "\n",
        "cont(20)\n",
        "\n",
        "\n",
        "\n"
      ],
      "execution_count": 8,
      "outputs": [
        {
          "output_type": "stream",
          "text": [
            "20\n",
            "19\n",
            "18\n",
            "17\n",
            "16\n",
            "15\n",
            "14\n",
            "13\n",
            "12\n",
            "11\n",
            "10\n",
            "9\n",
            "8\n",
            "7\n",
            "6\n",
            "5\n",
            "4\n",
            "3\n",
            "2\n",
            "1\n"
          ],
          "name": "stdout"
        }
      ]
    },
    {
      "cell_type": "code",
      "metadata": {
        "colab": {
          "base_uri": "https://localhost:8080/"
        },
        "id": "sx_pFESbqB24",
        "outputId": "25ef9822-fad2-47d1-c302-7778ae0b153d"
      },
      "source": [
        "\n",
        "def pila(lista):\n",
        "  lista= [1,24,13,53,141,35,543,654,754]\n",
        "  if len(lista) <=2:\n",
        "    return 0\n",
        "  else:\n",
        "      lista.pop(len(lista)//2)\n",
        "print(lista)\n"
      ],
      "execution_count": 106,
      "outputs": [
        {
          "output_type": "stream",
          "text": [
            "[1, 24, 13, 53, 141, 35, 543, 654, 754]\n"
          ],
          "name": "stdout"
        }
      ]
    }
  ]
}