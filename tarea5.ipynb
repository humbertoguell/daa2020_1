{
  "nbformat": 4,
  "nbformat_minor": 0,
  "metadata": {
    "colab": {
      "name": "tarea5.ipynb",
      "provenance": [],
      "collapsed_sections": [],
      "authorship_tag": "ABX9TyMfwf/sx62Ka4MSKlXlL3bY",
      "include_colab_link": true
    },
    "kernelspec": {
      "name": "python3",
      "display_name": "Python 3"
    }
  },
  "cells": [
    {
      "cell_type": "markdown",
      "metadata": {
        "id": "view-in-github",
        "colab_type": "text"
      },
      "source": [
        "<a href=\"https://colab.research.google.com/github/humbertoguell/daa2020_1/blob/master/tarea5.ipynb\" target=\"_parent\"><img src=\"https://colab.research.google.com/assets/colab-badge.svg\" alt=\"Open In Colab\"/></a>"
      ]
    },
    {
      "cell_type": "code",
      "metadata": {
        "id": "IBO9oH5k5JmZ",
        "outputId": "4f5e227d-5b39-461a-e2a6-b7b74c1eac9d",
        "colab": {
          "base_uri": "https://localhost:8080/",
          "height": 384
        }
      },
      "source": [
        "from time import time\n",
        "def ejemplo1( n ):\n",
        "    start_time = time()\n",
        "    c = n + 1\n",
        "    d = c * n\n",
        "    e = n * n\n",
        "    total = c + e - d\n",
        "    print(f\"total={ total }\")\n",
        "    elapsed_time = time() - start_time\n",
        "    print(\"Tiempo transcurrido: %0.10f segundos.\" % elapsed_time)\n",
        "\n",
        "for entrada in range(100,1100,100):\n",
        "  ejemplo1( entrada )"
      ],
      "execution_count": 15,
      "outputs": [
        {
          "output_type": "stream",
          "text": [
            "total=1\n",
            "Tiempo transcurrido: 0.0007660389 segundos.\n",
            "total=1\n",
            "Tiempo transcurrido: 0.0000233650 segundos.\n",
            "total=1\n",
            "Tiempo transcurrido: 0.0000376701 segundos.\n",
            "total=1\n",
            "Tiempo transcurrido: 0.0000212193 segundos.\n",
            "total=1\n",
            "Tiempo transcurrido: 0.0000491142 segundos.\n",
            "total=1\n",
            "Tiempo transcurrido: 0.0000355244 segundos.\n",
            "total=1\n",
            "Tiempo transcurrido: 0.0000329018 segundos.\n",
            "total=1\n",
            "Tiempo transcurrido: 0.0000345707 segundos.\n",
            "total=1\n",
            "Tiempo transcurrido: 0.0047037601 segundos.\n",
            "total=1\n",
            "Tiempo transcurrido: 0.0000452995 segundos.\n"
          ],
          "name": "stdout"
        }
      ]
    },
    {
      "cell_type": "code",
      "metadata": {
        "id": "JJuoZE9v5L66",
        "outputId": "4217961f-4a0e-4889-e7ff-11c1894f25aa",
        "colab": {
          "base_uri": "https://localhost:8080/",
          "height": 201
        }
      },
      "source": [
        "from time import time\n",
        "def ejemplo2( n ):\n",
        "    start_time = time()\n",
        "    contador = 0\n",
        "    for i in range( n ) :\n",
        "        for j in range( n ) :\n",
        "            contador += 1\n",
        "    elapsed_time = time() - start_time\n",
        "    print(\"Tiempo transcurrido: %0.10f segundos.\" % elapsed_time)\n",
        "    return contador\n",
        "\n",
        "for entrada in range(100,1100,100):\n",
        "  ejemplo2(entrada)"
      ],
      "execution_count": 16,
      "outputs": [
        {
          "output_type": "stream",
          "text": [
            "Tiempo transcurrido: 0.0007958412 segundos.\n",
            "Tiempo transcurrido: 0.0022578239 segundos.\n",
            "Tiempo transcurrido: 0.0061583519 segundos.\n",
            "Tiempo transcurrido: 0.0084209442 segundos.\n",
            "Tiempo transcurrido: 0.0133230686 segundos.\n",
            "Tiempo transcurrido: 0.0196194649 segundos.\n",
            "Tiempo transcurrido: 0.0269377232 segundos.\n",
            "Tiempo transcurrido: 0.0342650414 segundos.\n",
            "Tiempo transcurrido: 0.0457000732 segundos.\n",
            "Tiempo transcurrido: 0.0548260212 segundos.\n"
          ],
          "name": "stdout"
        }
      ]
    },
    {
      "cell_type": "code",
      "metadata": {
        "id": "tktw0-3J5NCZ",
        "outputId": "93a68d94-1a10-4c22-fee4-7fe1e71c2174",
        "colab": {
          "base_uri": "https://localhost:8080/",
          "height": 201
        }
      },
      "source": [
        "from time import time \n",
        "def ejemplo3( n ): # n=4\n",
        "    start_time = time()\n",
        "    x = n * 2 # x = 8\n",
        "    y = 0   # y = 0\n",
        "    for m in range( 100 ): #3\n",
        "        y = x - n   # y = 4\n",
        "    elapsed_time = time() - start_time\n",
        "    print(\"Tiempo transcurrido: %0.10f segundos.\" % elapsed_time)\n",
        "    \n",
        "    return y\n",
        "\n",
        "for entrada in range(100,1100,100):\n",
        "  ejemplo3( entrada )"
      ],
      "execution_count": 17,
      "outputs": [
        {
          "output_type": "stream",
          "text": [
            "Tiempo transcurrido: 0.0000047684 segundos.\n",
            "Tiempo transcurrido: 0.0000066757 segundos.\n",
            "Tiempo transcurrido: 0.0000090599 segundos.\n",
            "Tiempo transcurrido: 0.0000088215 segundos.\n",
            "Tiempo transcurrido: 0.0000085831 segundos.\n",
            "Tiempo transcurrido: 0.0000092983 segundos.\n",
            "Tiempo transcurrido: 0.0000085831 segundos.\n",
            "Tiempo transcurrido: 0.0000088215 segundos.\n",
            "Tiempo transcurrido: 0.0000083447 segundos.\n",
            "Tiempo transcurrido: 0.0000085831 segundos.\n"
          ],
          "name": "stdout"
        }
      ]
    },
    {
      "cell_type": "code",
      "metadata": {
        "id": "8iYnjLhy5QeJ",
        "outputId": "fbf6c36e-eadb-4e8d-e37e-f3e30fc8e87a",
        "colab": {
          "base_uri": "https://localhost:8080/",
          "height": 201
        }
      },
      "source": [
        "from time import time\n",
        "def ejemplo4( n ):\n",
        "    start_time = time()\n",
        "    x = 3 * 3.1416 + n\n",
        "    y = x + 3 * 3 - n\n",
        "    z = x + y\n",
        "\n",
        "    elapsed_time = time() - start_time\n",
        "    print(\"Tiempo transcurrido: %0.10f segundos.\" % elapsed_time)\n",
        "    return z\n",
        "\n",
        "for entrada in range(100,1100,100):\n",
        "  ejemplo4( entrada )"
      ],
      "execution_count": 18,
      "outputs": [
        {
          "output_type": "stream",
          "text": [
            "Tiempo transcurrido: 0.0000016689 segundos.\n",
            "Tiempo transcurrido: 0.0000009537 segundos.\n",
            "Tiempo transcurrido: 0.0000004768 segundos.\n",
            "Tiempo transcurrido: 0.0000004768 segundos.\n",
            "Tiempo transcurrido: 0.0000002384 segundos.\n",
            "Tiempo transcurrido: 0.0000002384 segundos.\n",
            "Tiempo transcurrido: 0.0000004768 segundos.\n",
            "Tiempo transcurrido: 0.0000002384 segundos.\n",
            "Tiempo transcurrido: 0.0000002384 segundos.\n",
            "Tiempo transcurrido: 0.0000002384 segundos.\n"
          ],
          "name": "stdout"
        }
      ]
    },
    {
      "cell_type": "code",
      "metadata": {
        "id": "JoyKZCZO5T7_",
        "outputId": "6d312533-1aab-45be-9c5e-7b144d2d8ae9",
        "colab": {
          "base_uri": "https://localhost:8080/",
          "height": 201
        }
      },
      "source": [
        "from time import time\n",
        "def ejemplo5( x ):\n",
        "    start_time=time()\n",
        "    n = 10\n",
        "    for j in range( 0 , x , 1 ):\n",
        "        n = j + n\n",
        "    elapsed_time = time() - start_time\n",
        "    print(\"Tiempo transcurrido: %0.10f segundos.\" % elapsed_time)    \n",
        "    return n\n",
        "\n",
        "for entrada in range(100,1100,100):\n",
        "  ejemplo5( entrada )"
      ],
      "execution_count": 20,
      "outputs": [
        {
          "output_type": "stream",
          "text": [
            "Tiempo transcurrido: 0.0000073910 segundos.\n",
            "Tiempo transcurrido: 0.0000178814 segundos.\n",
            "Tiempo transcurrido: 0.0000283718 segundos.\n",
            "Tiempo transcurrido: 0.0000405312 segundos.\n",
            "Tiempo transcurrido: 0.0000510216 segundos.\n",
            "Tiempo transcurrido: 0.0000638962 segundos.\n",
            "Tiempo transcurrido: 0.0000731945 segundos.\n",
            "Tiempo transcurrido: 0.0000793934 segundos.\n",
            "Tiempo transcurrido: 0.0000979900 segundos.\n",
            "Tiempo transcurrido: 0.0000946522 segundos.\n"
          ],
          "name": "stdout"
        }
      ]
    },
    {
      "cell_type": "code",
      "metadata": {
        "id": "9h71TIyl5lAy",
        "outputId": "27747361-7ec0-4d06-99a1-629b05d4accd",
        "colab": {
          "base_uri": "https://localhost:8080/",
          "height": 201
        }
      },
      "source": [
        "from time import time\n",
        "\n",
        "def ejemplo6( n ):\n",
        "    start_time = time()\n",
        "    data=[[[1 for x in range(n)] for x in range(n)] \n",
        "          for x in range(n)]\n",
        "    suma = 0\n",
        "    for d in range(n):\n",
        "        for r in range(n):\n",
        "            for c in range(n):\n",
        "                suma += data[d][r][c]\n",
        "    elapsed_time = time() - start_time\n",
        "    print(\"Tiempo transcurrido: %0.10f segundos.\" % elapsed_time)\n",
        "    return suma\n",
        "for entrada in range(100,1100,100):\n",
        "  ejemplo6( entrada )"
      ],
      "execution_count": 19,
      "outputs": [
        {
          "output_type": "stream",
          "text": [
            "Tiempo transcurrido: 0.1499564648 segundos.\n",
            "Tiempo transcurrido: 1.2060003281 segundos.\n",
            "Tiempo transcurrido: 3.8068406582 segundos.\n",
            "Tiempo transcurrido: 9.5664360523 segundos.\n",
            "Tiempo transcurrido: 18.9416923523 segundos.\n",
            "Tiempo transcurrido: 37.1017789841 segundos.\n",
            "Tiempo transcurrido: 52.8487811089 segundos.\n",
            "Tiempo transcurrido: 82.9493203163 segundos.\n",
            "Tiempo transcurrido: 120.6990776062 segundos.\n",
            "Tiempo transcurrido: 167.0003297329 segundos.\n"
          ],
          "name": "stdout"
        }
      ]
    }
  ]
}