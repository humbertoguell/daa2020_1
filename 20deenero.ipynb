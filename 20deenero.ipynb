{
  "nbformat": 4,
  "nbformat_minor": 0,
  "metadata": {
    "colab": {
      "name": "20deenero.ipynb",
      "provenance": [],
      "authorship_tag": "ABX9TyOfGO446RmQusQI3tVm1msA",
      "include_colab_link": true
    },
    "kernelspec": {
      "name": "python3",
      "display_name": "Python 3"
    }
  },
  "cells": [
    {
      "cell_type": "markdown",
      "metadata": {
        "id": "view-in-github",
        "colab_type": "text"
      },
      "source": [
        "<a href=\"https://colab.research.google.com/github/humbertoguell/daa2020_1/blob/master/20deenero.ipynb\" target=\"_parent\"><img src=\"https://colab.research.google.com/assets/colab-badge.svg\" alt=\"Open In Colab\"/></a>"
      ]
    },
    {
      "cell_type": "code",
      "metadata": {
        "id": "-fE3WW6KZJ9f"
      },
      "source": [
        "class NodoArbol:\r\n",
        "  def __init__(self, dato, hijo_izq = None, hijo_der = None):\r\n",
        "    self.dato = dato\r\n",
        "    self.left = hijo_izq\r\n",
        "    self.right = hijo_der"
      ],
      "execution_count": 2,
      "outputs": []
    },
    {
      "cell_type": "code",
      "metadata": {
        "id": "z6vhzmOTTAks"
      },
      "source": [
        "class BinarySearchTree:\r\n",
        "  def __init__(self):\r\n",
        "    self.__root = None\r\n",
        "  \r\n",
        "  def insert(self, value):\r\n",
        "    if self.__root == None:\r\n",
        "      self.__root = NodoArbol(value, None, None)\r\n",
        "    else:\r\n",
        "      #Preguntar si value es menor que root, de ser el caso\r\n",
        "      #Insertar a la izq. PERO puede ser el caso que el sub arbol\r\n",
        "      #Izq ya tenga muchos elementos\r\n",
        "      self.__insert_nodo__(self.__root, value)\r\n",
        "\r\n",
        "  def __insert_nodo__(self, nodo, value):\r\n",
        "    if nodo.dato == value:\r\n",
        "      pass\r\n",
        "    elif value < nodo.dato: #true va a la izq\r\n",
        "      if nodo.left == None: #Si hay espacio en la izq, ahi va\r\n",
        "         nodo.left = NodoArbol(value, None, None) #Insertamos el nodo\r\n",
        "      else:\r\n",
        "        self.__insert_nodo__(nodo.left, value) #Buscar en sub arbol izq\r\n",
        "    else:\r\n",
        "      if nodo.right == None:\r\n",
        "        nodo.right = NodoArbol (value, None, None)\r\n",
        "      else:\r\n",
        "        self.__insert_nodo__ (nodo.right, vlue) #biscar en sub arbol de\r\n",
        "\r\n",
        "  def buscar (self, value):\r\n",
        "    if self.__root == None:\r\n",
        "      return None\r\n",
        "    else:\r\n",
        "      #Haremos busqueda recursiva\r\n",
        "      return self.__busca_nodo(self.__root, value)\r\n",
        "\r\n",
        "  def __busca_nodo(self, nodo, value):\r\n",
        "    if nodo == None:\r\n",
        "      return None\r\n",
        "    elif nodo.dato == value:\r\n",
        "      return nodo.dato\r\n",
        "    elif value < nodo.dato:\r\n",
        "      return self.__busca_nodo(nodo.left, value)\r\n",
        "    else:\r\n",
        "      return self.__busca_nodo(nodo.right, value)\r\n",
        "  \r\n",
        "  def transversal (self, format = \"inorden\"):\r\n",
        "    if format == \"inorden\":\r\n",
        "      self.__recorrido_in(self.__root)\r\n",
        "    elif format == \"preorden\":\r\n",
        "      self.__recorrido_pre(self.__root)\r\n",
        "    elif format == \"posorden\":\r\n",
        "      self.__recorrido_pos(self.__root)\r\n",
        "    else:\r\n",
        "      print(\"Formato de recorrido no valido\")\r\n",
        "  \r\n",
        "  def __recorrido_pre(self, nodo):\r\n",
        "    if nodo != None:\r\n",
        "      print(nodo.dato, end = \",\")\r\n",
        "      self.__recorrido_pre(nodo.left)\r\n",
        "      self.__recorrido_pre(nodo.right)\r\n",
        "\r\n",
        "  def __recorrido_in(self, nodo):\r\n",
        "    if nodo != None:  \r\n",
        "      self.__recorrido_pre(nodo.left)\r\n",
        "      print(nodo.dato, end = \",\")\r\n",
        "      self.__recorrido_pre(nodo.right)\r\n",
        "\r\n",
        "  def __recorrido_pos(self, nodo):\r\n",
        "    if nodo != None:  \r\n",
        "      self.__recorrido_pre(nodo.left)\r\n",
        "      self.__recorrido_pre(nodo.right)\r\n",
        "      print(nodo.dato, end = \",\")"
      ],
      "execution_count": 6,
      "outputs": []
    },
    {
      "cell_type": "code",
      "metadata": {
        "id": "eRFthvzlbv98",
        "colab": {
          "base_uri": "https://localhost:8080/"
        },
        "outputId": "cbe56499-7572-4f7d-fefb-486c4e4097fc"
      },
      "source": [
        "bst = BinarySearchTree()\r\n",
        "bst.insert(50)\r\n",
        "bst.insert(30)\r\n",
        "bst.insert(20)\r\n",
        "res = bst.buscar(30) #true o false\r\n",
        "print(\"Dato: \" + str(res))\r\n",
        "print(bst.buscar(40))\r\n",
        "print(\"Recorrido pre:\")\r\n",
        "bst.transversal(format = \"preorden\")\r\n",
        "print(\"\\n Recorrido in:\")\r\n",
        "bst.transversal(format = \"inorden\")\r\n",
        "print(\"\\n Recorrido pos:\")"
      ],
      "execution_count": 8,
      "outputs": [
        {
          "output_type": "stream",
          "text": [
            "Dato: 30\n",
            "None\n",
            "Recorrido pre:\n",
            "50,30,20,\n",
            " Recorrido in:\n",
            "30,20,50,\n",
            " Recorrido pos:\n"
          ],
          "name": "stdout"
        }
      ]
    }
  ]
}