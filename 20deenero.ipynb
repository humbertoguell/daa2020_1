{
  "nbformat": 4,
  "nbformat_minor": 0,
  "metadata": {
    "colab": {
      "name": "20deenero.ipynb",
      "provenance": [],
      "authorship_tag": "ABX9TyP3/z31ypgZYXcgKAAL4EjG",
      "include_colab_link": true
    },
    "kernelspec": {
      "name": "python3",
      "display_name": "Python 3"
    }
  },
  "cells": [
    {
      "cell_type": "markdown",
      "metadata": {
        "id": "view-in-github",
        "colab_type": "text"
      },
      "source": [
        "<a href=\"https://colab.research.google.com/github/humbertoguell/daa2020_1/blob/master/20deenero.ipynb\" target=\"_parent\"><img src=\"https://colab.research.google.com/assets/colab-badge.svg\" alt=\"Open In Colab\"/></a>"
      ]
    },
    {
      "cell_type": "code",
      "metadata": {
        "id": "-fE3WW6KZJ9f"
      },
      "source": [
        "   class NodoArbol:\r\n",
        "      def _init_(self, value, left = None, right = None):\r\n",
        "            self.data = value\r\n",
        "            self.left = left\r\n",
        "            self.right = right"
      ],
      "execution_count": 35,
      "outputs": []
    },
    {
      "cell_type": "code",
      "metadata": {
        "id": "z6vhzmOTTAks"
      },
      "source": [
        "class BinarySearchTree:\r\n",
        "  def __init__(self): \r\n",
        "    self.__root = None\r\n",
        "\r\n",
        "  def insert(self, value):\r\n",
        "    if self.__root == None:\r\n",
        "      self.__root = NodoArbol(value,None,None)\r\n",
        "    else:\r\n",
        "          #preguntar si value es menor que root, de ser el caso\r\n",
        "          #insetar a la izq, pero.. puede ser el caso que el\r\n",
        "          #sub arbol izq ya tenga muchos elementos....\r\n",
        "      self.__insert_nodo_(self.__root, value)\r\n",
        "\r\n",
        "  def __insert_nodo__(self,nodo,value):\r\n",
        "      if nodo.data == value:\r\n",
        "          pass\r\n",
        "      elif value < nodo.data: #true va a la ziq\r\n",
        "          if nodo.left == None: # si hay esoacio en la izq, ahi va\r\n",
        "              nodo.left = TreeNode(value, None, None) # insertamos el nodo\r\n",
        "          else:\r\n",
        "              self.__insert_nodo__(nodo.left, value)#buscar en sub arbol\r\n",
        "  \r\n",
        "  def buscar(slef, value):\r\n",
        "      if self.__root ==  None:\r\n",
        "        return False\r\n",
        "      else:\r\n",
        "        #haremos busqueda recursiva\r\n",
        "          return self.__busca_nodo(self.__root, value) \r\n",
        "    \r\n",
        "  def __busca_nodo(self,nodo, value):\r\n",
        "      if nodo == None:\r\n",
        "          return None\r\n",
        "      elif nodo.data == value:\r\n",
        "          return self.__buscar_nodo(nodo.left,value)\r\n",
        "      elif value < nodo.data:\r\n",
        "          return self.__buscar_nodo(nodo.right,value)\r\n",
        "    \r\n",
        "  def transveral(self, format = \"inorden\"):\r\n",
        "      if format == \"inorden\":\r\n",
        "          self.__recorrido_in(self.__root)\r\n",
        "      elif format ==\"preorden\":\r\n",
        "          self.__recorrido_pre(self.__root)\r\n",
        "      else:\r\n",
        "          print(\"formato no recorrido\")\r\n",
        "  def __recorrido_in(self, nodo):\r\n",
        "        if nodo != None:\r\n",
        "            self.__recorrido_in(nodo.left)\r\n",
        "            print(nodo.data,end='')\r\n",
        "            self.__recorrido_in(nodo.right)\r\n",
        "\r\n",
        "  def __recorrido_pre(self, nodo):\r\n",
        "      if nodo != None:\r\n",
        "          print(nodo.data, end='')\r\n",
        "          self.__recorrido_pre(nodo.left)\r\n",
        "          self.__recorrido_pre(nodo.right)\r\n",
        "\r\n",
        "  def __recorrido_pos(self, nodo):\r\n",
        "      if nodo != None:\r\n",
        "          self.__recorrido_pos(nodo.left)\r\n",
        "          self.__recorrido_pos(nodo.right)\r\n",
        "          print(nodo.data, end='')"
      ],
      "execution_count": 36,
      "outputs": []
    },
    {
      "cell_type": "code",
      "metadata": {
        "id": "eRFthvzlbv98",
        "colab": {
          "base_uri": "https://localhost:8080/",
          "height": 352
        },
        "outputId": "20da057e-9eed-4d0f-a949-b9761e858faa"
      },
      "source": [
        "bst = BinarySearchTree()\r\n",
        "bst.insert(50)\r\n",
        "bst.insert(30)\r\n",
        "bst.insert(20)\r\n",
        "res = bst.buscar(30)\r\n",
        "print(\"dato:\"+str(res))\r\n",
        "print(bst.buscar(40))\r\n",
        "print(\"recorrido:\")\r\n",
        "bst.transversal(format=\"preorden\")"
      ],
      "execution_count": 38,
      "outputs": [
        {
          "output_type": "error",
          "ename": "TypeError",
          "evalue": "ignored",
          "traceback": [
            "\u001b[0;31m---------------------------------------------------------------------------\u001b[0m",
            "\u001b[0;31mTypeError\u001b[0m                                 Traceback (most recent call last)",
            "\u001b[0;32m<ipython-input-38-9759c62d448f>\u001b[0m in \u001b[0;36m<module>\u001b[0;34m()\u001b[0m\n\u001b[1;32m      1\u001b[0m \u001b[0mbst\u001b[0m \u001b[0;34m=\u001b[0m \u001b[0mBinarySearchTree\u001b[0m\u001b[0;34m(\u001b[0m\u001b[0;34m)\u001b[0m\u001b[0;34m\u001b[0m\u001b[0;34m\u001b[0m\u001b[0m\n\u001b[0;32m----> 2\u001b[0;31m \u001b[0mbst\u001b[0m\u001b[0;34m.\u001b[0m\u001b[0minsert\u001b[0m\u001b[0;34m(\u001b[0m\u001b[0;36m50\u001b[0m\u001b[0;34m)\u001b[0m\u001b[0;34m\u001b[0m\u001b[0;34m\u001b[0m\u001b[0m\n\u001b[0m\u001b[1;32m      3\u001b[0m \u001b[0mbst\u001b[0m\u001b[0;34m.\u001b[0m\u001b[0minsert\u001b[0m\u001b[0;34m(\u001b[0m\u001b[0;36m30\u001b[0m\u001b[0;34m)\u001b[0m\u001b[0;34m\u001b[0m\u001b[0;34m\u001b[0m\u001b[0m\n\u001b[1;32m      4\u001b[0m \u001b[0mbst\u001b[0m\u001b[0;34m.\u001b[0m\u001b[0minsert\u001b[0m\u001b[0;34m(\u001b[0m\u001b[0;36m20\u001b[0m\u001b[0;34m)\u001b[0m\u001b[0;34m\u001b[0m\u001b[0;34m\u001b[0m\u001b[0m\n\u001b[1;32m      5\u001b[0m \u001b[0mres\u001b[0m \u001b[0;34m=\u001b[0m \u001b[0mbst\u001b[0m\u001b[0;34m.\u001b[0m\u001b[0mbuscar\u001b[0m\u001b[0;34m(\u001b[0m\u001b[0;36m30\u001b[0m\u001b[0;34m)\u001b[0m\u001b[0;34m\u001b[0m\u001b[0;34m\u001b[0m\u001b[0m\n",
            "\u001b[0;32m<ipython-input-36-237afad800aa>\u001b[0m in \u001b[0;36minsert\u001b[0;34m(self, value)\u001b[0m\n\u001b[1;32m      5\u001b[0m   \u001b[0;32mdef\u001b[0m \u001b[0minsert\u001b[0m\u001b[0;34m(\u001b[0m\u001b[0mself\u001b[0m\u001b[0;34m,\u001b[0m \u001b[0mvalue\u001b[0m\u001b[0;34m)\u001b[0m\u001b[0;34m:\u001b[0m\u001b[0;34m\u001b[0m\u001b[0;34m\u001b[0m\u001b[0m\n\u001b[1;32m      6\u001b[0m     \u001b[0;32mif\u001b[0m \u001b[0mself\u001b[0m\u001b[0;34m.\u001b[0m\u001b[0m__root\u001b[0m \u001b[0;34m==\u001b[0m \u001b[0;32mNone\u001b[0m\u001b[0;34m:\u001b[0m\u001b[0;34m\u001b[0m\u001b[0;34m\u001b[0m\u001b[0m\n\u001b[0;32m----> 7\u001b[0;31m       \u001b[0mself\u001b[0m\u001b[0;34m.\u001b[0m\u001b[0m__root\u001b[0m \u001b[0;34m=\u001b[0m \u001b[0mNodoArbol\u001b[0m\u001b[0;34m(\u001b[0m\u001b[0mvalue\u001b[0m\u001b[0;34m,\u001b[0m\u001b[0;32mNone\u001b[0m\u001b[0;34m,\u001b[0m\u001b[0;32mNone\u001b[0m\u001b[0;34m)\u001b[0m\u001b[0;34m\u001b[0m\u001b[0;34m\u001b[0m\u001b[0m\n\u001b[0m\u001b[1;32m      8\u001b[0m     \u001b[0;32melse\u001b[0m\u001b[0;34m:\u001b[0m\u001b[0;34m\u001b[0m\u001b[0;34m\u001b[0m\u001b[0m\n\u001b[1;32m      9\u001b[0m           \u001b[0;31m#preguntar si value es menor que root, de ser el caso\u001b[0m\u001b[0;34m\u001b[0m\u001b[0;34m\u001b[0m\u001b[0;34m\u001b[0m\u001b[0m\n",
            "\u001b[0;31mTypeError\u001b[0m: object() takes no parameters"
          ]
        }
      ]
    }
  ]
}