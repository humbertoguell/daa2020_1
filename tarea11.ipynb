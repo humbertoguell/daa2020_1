{
  "nbformat": 4,
  "nbformat_minor": 0,
  "metadata": {
    "colab": {
      "name": "tarea11.ipynb",
      "provenance": [],
      "authorship_tag": "ABX9TyNAsfq6OIC4KhEXcpaaVZkl",
      "include_colab_link": true
    },
    "kernelspec": {
      "name": "python3",
      "display_name": "Python 3"
    }
  },
  "cells": [
    {
      "cell_type": "markdown",
      "metadata": {
        "id": "view-in-github",
        "colab_type": "text"
      },
      "source": [
        "<a href=\"https://colab.research.google.com/github/humbertoguell/daa2020_1/blob/master/tarea11.ipynb\" target=\"_parent\"><img src=\"https://colab.research.google.com/assets/colab-badge.svg\" alt=\"Open In Colab\"/></a>"
      ]
    },
    {
      "cell_type": "code",
      "metadata": {
        "id": "-fE3WW6KZJ9f"
      },
      "source": [
        "class NodoArbol:\r\n",
        "  def __init__(self, dato, hijo_izq = None, hijo_der = None):\r\n",
        "    self.dato = dato\r\n",
        "    self.left = hijo_izq\r\n",
        "    self.right = hijo_der"
      ],
      "execution_count": 27,
      "outputs": []
    },
    {
      "cell_type": "code",
      "metadata": {
        "id": "z6vhzmOTTAks"
      },
      "source": [
        "class BinarySearchTree:\r\n",
        "  def __init__(self):\r\n",
        "    self.__root = None\r\n",
        "  \r\n",
        "  def insert(self, value):\r\n",
        "    if self.__root == None:\r\n",
        "      self.__root = NodoArbol(value, None, None)\r\n",
        "    else:\r\n",
        "      #Preguntar si value es menor que root, de ser el caso\r\n",
        "      #Insertar a la izq. PERO puede ser el caso que el sub arbol\r\n",
        "      #Izq ya tenga muchos elementos\r\n",
        "      self.__insert_nodo__(self.__root, value)\r\n",
        "\r\n",
        "  def __insert_nodo__(self, nodo, value):\r\n",
        "    if nodo.dato == value:\r\n",
        "      pass\r\n",
        "    elif value < nodo.dato: #true va a la izq\r\n",
        "      if nodo.left == None: #Si hay espacio en la izq, ahi va\r\n",
        "         nodo.left = NodoArbol(value, None, None) #Insertamos el nodo\r\n",
        "      else:\r\n",
        "        self.__insert_nodo__(nodo.left, value) #Buscar en sub arbol izq\r\n",
        "    else:\r\n",
        "      if nodo.right == None:\r\n",
        "        nodo.right = NodoArbol (value, None, None)\r\n",
        "      else:\r\n",
        "        self.__insert_nodo__ (nodo.right, value) #biscar en sub arbol de\r\n",
        "\r\n",
        "  def buscar (self, value):\r\n",
        "    if self.__root == None:\r\n",
        "      return None\r\n",
        "    else:\r\n",
        "      #Haremos busqueda recursiva\r\n",
        "      return self.__busca_nodo(self.__root, value)\r\n",
        "\r\n",
        "  def __busca_nodo(self, nodo, value):\r\n",
        "    if nodo == None:\r\n",
        "      return None\r\n",
        "    elif nodo.dato == value:\r\n",
        "      return nodo.dato\r\n",
        "    elif value < nodo.dato:\r\n",
        "      return self.__busca_nodo(nodo.left, value)\r\n",
        "    else:\r\n",
        "      return self.__busca_nodo(nodo.right, value)\r\n",
        "  \r\n",
        "  def transversal (self, format = \"inorden\"):\r\n",
        "    if format == \"inorden\":\r\n",
        "      self.__recorrido_in(self.__root)\r\n",
        "    elif format == \"preorden\":\r\n",
        "      self.__recorrido_pre(self.__root)\r\n",
        "    elif format == \"posorden\":\r\n",
        "      self.__recorrido_pos(self.__root)\r\n",
        "    else:\r\n",
        "      print(\"Formato de recorrido no valido\")\r\n",
        "  \r\n",
        "  def __recorrido_pre(self, nodo):\r\n",
        "    if nodo != None:\r\n",
        "      print(nodo.dato, end = \",\")\r\n",
        "      self.__recorrido_pre(nodo.left)\r\n",
        "      self.__recorrido_pre(nodo.right)\r\n",
        "\r\n",
        "  def __recorrido_in(self, nodo):\r\n",
        "    if nodo != None:  \r\n",
        "      self.__recorrido_pre(nodo.left)\r\n",
        "      print(nodo.dato, end = \",\")\r\n",
        "      self.__recorrido_pre(nodo.right)\r\n",
        "\r\n",
        "  def __recorrido_pos(self, nodo):\r\n",
        "    if nodo != None:  \r\n",
        "      self.__recorrido_pre(nodo.left)\r\n",
        "      self.__recorrido_pre(nodo.right)\r\n",
        "      print(nodo.dato, end = \",\")\r\n",
        "\r\n",
        "  def  eliminarnodo(self, value):\r\n",
        "    self.__eliminar_nodo(self.__root, self.__root, self.__root, None, value)\r\n",
        "\r\n",
        "  def __eliminar_nodo(self, root, nodo, prev, actual, value):\r\n",
        "    if nodo==None:\r\n",
        "      return print(\"Ese nodo no existe\")\r\n",
        "    if nodo.dato==value:\r\n",
        "      if nodo.left==None and nodo.right==None: \r\n",
        "        if actual==\"izq\":\r\n",
        "          prev.left=None\r\n",
        "        elif actual==\"der\":\r\n",
        "          prev.right=None\r\n",
        "      elif nodo.left==None and nodo.right!=None:\r\n",
        "        if actual==\"izq\":\r\n",
        "          prev.left=nodo.right\r\n",
        "        else:\r\n",
        "          an.right=nodo.right\r\n",
        "      elif nodo.left!=None and nodo.right==None:\r\n",
        "        if actual==\"izq\":\r\n",
        "          prev.left=nodo.left\r\n",
        "        else:\r\n",
        "          prev.right=nodo.left\r\n",
        "      elif nodo.left!=None and nodo.right!=None: \r\n",
        "        tmp,prev2 =self.nodoabajo(nodo.right, nodo)\r\n",
        "        if nodo.dato==prev2.data:\r\n",
        "          prev2.right=tmp.right\r\n",
        "        elif nodo.dato!=prev2.dato:\r\n",
        "          prev2.left=tmp.right\r\n",
        "        if actual==\"izq\":\r\n",
        "          prev.left=tmp\r\n",
        "        else:\r\n",
        "          prev.right=tmp\r\n",
        "        tmp.left=nodo.left\r\n",
        "        tmp.right=nodo.right\r\n",
        "    elif value<nodo.dato:\r\n",
        "      return self.__eliminar_nodo(root, nodo.left, nodo, \"izq\", value)\r\n",
        "    else:\r\n",
        "      return self.__eliminar_nodo(root, nodo.right, nodo, \"der\", value)"
      ],
      "execution_count": 34,
      "outputs": []
    },
    {
      "cell_type": "code",
      "metadata": {
        "id": "eRFthvzlbv98",
        "colab": {
          "base_uri": "https://localhost:8080/"
        },
        "outputId": "c5f0b74e-baa3-4394-d298-3a9cd5144395"
      },
      "source": [
        "bst = BinarySearchTree()\r\n",
        "bst.insert(50)\r\n",
        "bst.insert(20)\r\n",
        "bst.insert(60)\r\n",
        "bst.insert(80)\r\n",
        "bst.insert(90)\r\n",
        "bst.insert(85)\r\n",
        "res = bst.buscar(15) \r\n",
        "print(\"Dato: \" + str(res))\r\n",
        "print(bst.buscar(20))\r\n",
        "print(\"Recorrido pre:\")\r\n",
        "bst.transversal(format = \"preorden\")\r\n",
        "print(\"\\n Recorrido in:\")\r\n",
        "bst.transversal(format = \"inorden\")\r\n",
        "print(\"\\n Recorrido pos:\")\r\n",
        "bst.eliminarnodo(20)\r\n",
        "print(\"\\n\")\r\n",
        "print(\"Arbol nuevo despues de eliminar el nodo: \")\r\n",
        "bst.transversal(format = \"inorden\")"
      ],
      "execution_count": 36,
      "outputs": [
        {
          "output_type": "stream",
          "text": [
            "Dato: None\n",
            "20\n",
            "Recorrido pre:\n",
            "50,20,60,80,90,85,\n",
            " Recorrido in:\n",
            "20,50,60,80,90,85,\n",
            " Recorrido pos:\n",
            "\n",
            "\n",
            "Arbol nuevo despues de eliminar el nodo: \n",
            "50,60,80,90,85,"
          ],
          "name": "stdout"
        }
      ]
    }
  ]
}