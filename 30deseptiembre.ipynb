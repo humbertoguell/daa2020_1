{
  "nbformat": 4,
  "nbformat_minor": 0,
  "metadata": {
    "colab": {
      "name": "30deseptiembre.ipynb",
      "provenance": [],
      "collapsed_sections": [],
      "authorship_tag": "ABX9TyO9joe011WUPFFocSfGveFt",
      "include_colab_link": true
    },
    "kernelspec": {
      "name": "python3",
      "display_name": "Python 3"
    }
  },
  "cells": [
    {
      "cell_type": "markdown",
      "metadata": {
        "id": "view-in-github",
        "colab_type": "text"
      },
      "source": [
        "<a href=\"https://colab.research.google.com/github/humbertoguell/daa2020_1/blob/master/30deseptiembre.ipynb\" target=\"_parent\"><img src=\"https://colab.research.google.com/assets/colab-badge.svg\" alt=\"Open In Colab\"/></a>"
      ]
    },
    {
      "cell_type": "markdown",
      "metadata": {
        "id": "_JOyRMdjQRKb"
      },
      "source": [
        "#Palindromo\n",
        "\n",
        "Es una palabra que se lee de igual forma de un sentido y sentido inverso,ejemplo:\n",
        "1. sugus\n",
        "1. oso\n",
        "1. reconocer\n",
        "1. 10101\n",
        "2. 10:10\n",
        "\n",
        "## Planteamiento del Problema \n",
        "Se desea encontrar todos los palindromos que existen en la franja horaria de un dia completo, tomando como horario inicial las 00:00 y como horario final 23:59 horas\n",
        "\n",
        "Si algortimos debe de mostrar en pantalla todos los palindromos que existen en ese rango, al final se debe de mostrar el conteo de total de palindromos existentes\n",
        "\n"
      ]
    },
    {
      "cell_type": "code",
      "metadata": {
        "id": "5ZKnulfqTSQC",
        "outputId": "65f233f9-2456-408b-914c-11497680e868",
        "colab": {
          "base_uri": "https://localhost:8080/",
          "height": 458
        }
      },
      "source": [
        "def horario():\n",
        "    for n in range(0,24,1):\n",
        "        for i in range(0,60,1):\n",
        "           if n== i and i== n:\n",
        "            print(f'{n}:{i}')\n",
        "               \n",
        "   \n",
        "def main():\n",
        "  horari = horario()\n",
        "main()\n",
        "      "
      ],
      "execution_count": 40,
      "outputs": [
        {
          "output_type": "stream",
          "text": [
            "0:0\n",
            "1:1\n",
            "2:2\n",
            "3:3\n",
            "4:4\n",
            "5:5\n",
            "6:6\n",
            "7:7\n",
            "8:8\n",
            "9:9\n",
            "10:10\n",
            "11:11\n",
            "12:12\n",
            "13:13\n",
            "14:14\n",
            "15:15\n",
            "16:16\n",
            "17:17\n",
            "18:18\n",
            "19:19\n",
            "20:20\n",
            "21:21\n",
            "22:22\n",
            "23:23\n"
          ],
          "name": "stdout"
        }
      ]
    }
  ]
}