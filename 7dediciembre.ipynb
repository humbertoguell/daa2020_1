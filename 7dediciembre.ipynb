{
  "nbformat": 4,
  "nbformat_minor": 0,
  "metadata": {
    "colab": {
      "name": "7dediciembre.ipynb",
      "provenance": [],
      "authorship_tag": "ABX9TyMBXzZtHST9CoEWZLACt5od",
      "include_colab_link": true
    },
    "kernelspec": {
      "name": "python3",
      "display_name": "Python 3"
    }
  },
  "cells": [
    {
      "cell_type": "markdown",
      "metadata": {
        "id": "view-in-github",
        "colab_type": "text"
      },
      "source": [
        "<a href=\"https://colab.research.google.com/github/humbertoguell/daa2020_1/blob/master/7dediciembre.ipynb\" target=\"_parent\"><img src=\"https://colab.research.google.com/assets/colab-badge.svg\" alt=\"Open In Colab\"/></a>"
      ]
    },
    {
      "cell_type": "code",
      "metadata": {
        "id": "ooWq7N_EdO5f"
      },
      "source": [
        "def fibonacci( n ):\r\n",
        "    print(\"Llamada:\",n)\r\n",
        "    if  n == 1 or n == 0:\r\n",
        "        return n\r\n",
        "    else:\r\n",
        "        return ( fibonacci(n-1) + fibonacci(n-2) )\r\n",
        "\r\n",
        "\r\n",
        "print(fibonacci(7))"
      ],
      "execution_count": null,
      "outputs": []
    }
  ]
}