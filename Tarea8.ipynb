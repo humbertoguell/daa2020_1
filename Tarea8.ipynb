{
  "nbformat": 4,
  "nbformat_minor": 0,
  "metadata": {
    "colab": {
      "name": "Tarea8.ipynb",
      "provenance": [],
      "authorship_tag": "ABX9TyOThfEgzgmq96VjKZ6G6xSg",
      "include_colab_link": true
    },
    "kernelspec": {
      "name": "python3",
      "display_name": "Python 3"
    }
  },
  "cells": [
    {
      "cell_type": "markdown",
      "metadata": {
        "id": "view-in-github",
        "colab_type": "text"
      },
      "source": [
        "<a href=\"https://colab.research.google.com/github/humbertoguell/daa2020_1/blob/master/Tarea8.ipynb\" target=\"_parent\"><img src=\"https://colab.research.google.com/assets/colab-badge.svg\" alt=\"Open In Colab\"/></a>"
      ]
    },
    {
      "cell_type": "code",
      "metadata": {
        "colab": {
          "base_uri": "https://localhost:8080/"
        },
        "id": "2YjRgMRHjTfX",
        "outputId": "32f65ee8-de45-48eb-c60c-546d1c76842f"
      },
      "source": [
        "alumno1={'id':2, 'nombre':\"Juan\" , 'carrera':\"ICO\", 'promedio':7.67}\r\n",
        "alumno2={'id':4, 'nombre':\"Rocio\" , 'carrera':\"ICI\", 'promedio':8.67}\r\n",
        "alumno3={'id':5, 'nombre':\"Diego\" , 'carrera':\"DER\", 'promedio':8.98}\r\n",
        "alumno4={'id':7, 'nombre':\"May\" , 'carrera':\"ICI\", 'promedio':9.87}\r\n",
        "alumno5={'id':9, 'nombre':\"Rob\" , 'carrera':\"IME\", 'promedio':10.00}\r\n",
        "alumno6={'id':10, 'nombre':\"Santi\" , 'carrera':\"ICO\", 'promedio':5.37}\r\n",
        "alumno7={'id':14, 'nombre':\"Moy\" , 'carrera':\"IME\", 'promedio':6.85}\r\n",
        "alumno8={'id':16, 'nombre':\"Diana\" , 'carrera':\"DER\", 'promedio':9.99}\r\n",
        "alumno9={'id':19, 'nombre':\"Zoila\" , 'carrera':\"ICO\", 'promedio':8.22}\r\n",
        "alumno10={'id':22, 'nombre':\"Armando\" , 'carrera':\"ICO\", 'promedio':7.32}\r\n",
        "\r\n",
        "\r\n",
        "bd = []\r\n",
        "bd.append(alumno1)\r\n",
        "bd.append(alumno2)\r\n",
        "bd.append(alumno3)\r\n",
        "bd.append(alumno4)\r\n",
        "bd.append(alumno5)\r\n",
        "bd.append(alumno6)\r\n",
        "bd.append(alumno7)\r\n",
        "bd.append(alumno8)\r\n",
        "bd.append(alumno9)\r\n",
        "bd.append(alumno10)\r\n",
        "\r\n",
        "\r\n",
        "\r\n",
        "id = int(input(\"dame el  Id del alumno que quieres buscar: \"))\r\n",
        "\r\n",
        "def BusBinaria(id, lista, ini,final):\r\n",
        "    m = (ini + final) // 2\r\n",
        "    if ini >= final:\r\n",
        "        print(\"El id del alumno es incorrecto, no se encuentra en la base\")\r\n",
        "    elif lista[m].get('id') == id:\r\n",
        "        return m\r\n",
        "    elif lista[m].get('id') < id:\r\n",
        "        return busqueda(id, lista, (m + 1), final)\r\n",
        "    else:\r\n",
        "        return busqueda(id, lista, ini, m)\r\n",
        "\r\n",
        "resultado = BusBinaria(id,bd, 0, len(bd))\r\n",
        "print(f\"{bd[resultado].get('nombre')} esta en la carrera de {bd[resultado].get('carrera')} y su promedio es de {bd[resultado].get('promedio')}\")\r\n",
        "\r\n"
      ],
      "execution_count": 9,
      "outputs": [
        {
          "output_type": "stream",
          "text": [
            "Proporciona Id del alumno que se quiere buscar: 5\n",
            "Diego esta en la carrera de DER y su promedio es de 8.98\n"
          ],
          "name": "stdout"
        }
      ]
    }
  ]
}