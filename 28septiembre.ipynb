{
  "nbformat": 4,
  "nbformat_minor": 0,
  "metadata": {
    "colab": {
      "name": "28septiembre.ipynb",
      "provenance": [],
      "authorship_tag": "ABX9TyMbyV4MANnE4+/ZFqVBrf55",
      "include_colab_link": true
    },
    "kernelspec": {
      "name": "python3",
      "display_name": "Python 3"
    }
  },
  "cells": [
    {
      "cell_type": "markdown",
      "metadata": {
        "id": "view-in-github",
        "colab_type": "text"
      },
      "source": [
        "<a href=\"https://colab.research.google.com/github/humbertoguell/daa2020_1/blob/master/28septiembre.ipynb\" target=\"_parent\"><img src=\"https://colab.research.google.com/assets/colab-badge.svg\" alt=\"Open In Colab\"/></a>"
      ]
    },
    {
      "cell_type": "code",
      "metadata": {
        "id": "mSCqA6q7CeUm"
      },
      "source": [
        ""
      ],
      "execution_count": null,
      "outputs": []
    },
    {
      "cell_type": "markdown",
      "metadata": {
        "id": "zLD2eUEjCtMv"
      },
      "source": [
        "# Sección 1\n",
        "\n"
      ]
    },
    {
      "cell_type": "markdown",
      "metadata": {
        "id": "JBYptWMHC8W1"
      },
      "source": [
        "En este archivo tambien aprenderemos a programar con phyton en google y tambien obtendremos a como subir a nuestro repositorio de github"
      ]
    },
    {
      "cell_type": "markdown",
      "metadata": {
        "id": "zEBzbeBIDv_r"
      },
      "source": [
        "### Sección nueva\n",
        "`\n",
        "\n",
        "`\n",
        " "
      ]
    },
    {
      "cell_type": "code",
      "metadata": {
        "id": "0tge1V4tGd77",
        "outputId": "bddc454d-eed9-4b87-94f2-67db165be07a",
        "colab": {
          "base_uri": "https://localhost:8080/",
          "height": 35
        }
      },
      "source": [
        "frutas = []\n",
        "frutas.append('manzana')\n",
        "frutas.append('kiwi')\n",
        "frutas.append('piña')\n",
        "print(frutas)"
      ],
      "execution_count": 1,
      "outputs": [
        {
          "output_type": "stream",
          "text": [
            "['manzana', 'kiwi', 'piña']\n"
          ],
          "name": "stdout"
        }
      ]
    },
    {
      "cell_type": "code",
      "metadata": {
        "id": "3OgFaAcfHtl7"
      },
      "source": [
        "archivo = open('prueba.txt','wt')\n",
        "archivo.write(\"hola mundo jupyter\")\n",
        "archivo.close()"
      ],
      "execution_count": 3,
      "outputs": []
    }
  ]
}